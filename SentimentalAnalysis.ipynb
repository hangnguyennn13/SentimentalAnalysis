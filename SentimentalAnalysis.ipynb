{
 "cells": [
  {
   "cell_type": "markdown",
   "metadata": {
    "colab_type": "text",
    "id": "Rfy9qRcfl4Ob"
   },
   "source": [
    "Sentiment analysis on movies reviews \n",
    "===\n",
    "\n",
    "This weekly project is to perform sentimental analysis on movies reviews. The labeled dataset consists of 50,000 IMDB movie reviews, specially selected for sentiment analysis. The sentiment of reviews is binary, meaning the IMDB rating < 5 results in a sentiment score of 0, and rating >=7 have a sentiment score of 1. No individual movie has more than 30 reviews. The 25,000 reviews labeled training set does not include any of the same movies as the 25,000 review test set.\n",
    "\n",
    "![Img](https://static.techprincess.it/wp-content/uploads/sites/5/2019/01/Imdb-freedive-1280x700-780x405.jpg)\n",
    "\n",
    "### Understanding the dataset\n",
    "\n",
    "- **Sentiment**: 0 - non-sentimental, 1 - sentimental\n",
    "- **Review**: IMDB movie reviews\n",
    "- **Id**: The id of the review"
   ]
  },
  {
   "cell_type": "code",
   "execution_count": 1,
   "metadata": {},
   "outputs": [],
   "source": [
    "import pandas as pd\n",
    "import matplotlib.pyplot as plt\n",
    "import seaborn as sns\n",
    "import numpy as np\n",
    "import warnings\n",
    "warnings.filterwarnings('ignore')\n",
    "\n",
    "# Show plot in the notebook\n",
    "%matplotlib inline"
   ]
  },
  {
   "cell_type": "markdown",
   "metadata": {},
   "source": [
    "## 1. Load the dataset and check information"
   ]
  },
  {
   "cell_type": "code",
   "execution_count": 2,
   "metadata": {},
   "outputs": [],
   "source": [
    "# Load the dataset \n",
    "data = pd.read_csv(\"./data/movie_review.csv\", sep='\\t')"
   ]
  },
  {
   "cell_type": "code",
   "execution_count": 40,
   "metadata": {},
   "outputs": [],
   "source": [
    "test = pd.read_csv(\"./data/movie_review_noLabel.csv\", sep='\\t')"
   ]
  },
  {
   "cell_type": "code",
   "execution_count": 3,
   "metadata": {},
   "outputs": [
    {
     "data": {
      "text/html": [
       "<div>\n",
       "<style scoped>\n",
       "    .dataframe tbody tr th:only-of-type {\n",
       "        vertical-align: middle;\n",
       "    }\n",
       "\n",
       "    .dataframe tbody tr th {\n",
       "        vertical-align: top;\n",
       "    }\n",
       "\n",
       "    .dataframe thead th {\n",
       "        text-align: right;\n",
       "    }\n",
       "</style>\n",
       "<table border=\"1\" class=\"dataframe\">\n",
       "  <thead>\n",
       "    <tr style=\"text-align: right;\">\n",
       "      <th></th>\n",
       "      <th>id</th>\n",
       "      <th>review</th>\n",
       "      <th>sentiment</th>\n",
       "    </tr>\n",
       "  </thead>\n",
       "  <tbody>\n",
       "    <tr>\n",
       "      <th>10325</th>\n",
       "      <td>8268_7</td>\n",
       "      <td>This is apparently the second remake of this f...</td>\n",
       "      <td>1</td>\n",
       "    </tr>\n",
       "  </tbody>\n",
       "</table>\n",
       "</div>"
      ],
      "text/plain": [
       "           id                                             review  sentiment\n",
       "10325  8268_7  This is apparently the second remake of this f...          1"
      ]
     },
     "execution_count": 3,
     "metadata": {},
     "output_type": "execute_result"
    }
   ],
   "source": [
    "# Check some random observations \n",
    "data[data['sentiment']==1].sample(5)"
   ]
  },
  {
   "cell_type": "code",
   "execution_count": 41,
   "metadata": {},
   "outputs": [
    {
     "data": {
      "text/html": [
       "<div>\n",
       "<style scoped>\n",
       "    .dataframe tbody tr th:only-of-type {\n",
       "        vertical-align: middle;\n",
       "    }\n",
       "\n",
       "    .dataframe tbody tr th {\n",
       "        vertical-align: top;\n",
       "    }\n",
       "\n",
       "    .dataframe thead th {\n",
       "        text-align: right;\n",
       "    }\n",
       "</style>\n",
       "<table border=\"1\" class=\"dataframe\">\n",
       "  <thead>\n",
       "    <tr style=\"text-align: right;\">\n",
       "      <th></th>\n",
       "      <th>id</th>\n",
       "      <th>review</th>\n",
       "    </tr>\n",
       "  </thead>\n",
       "  <tbody>\n",
       "    <tr>\n",
       "      <th>0</th>\n",
       "      <td>10633_1</td>\n",
       "      <td>I watched this video at a friend's house. I'm ...</td>\n",
       "    </tr>\n",
       "    <tr>\n",
       "      <th>1</th>\n",
       "      <td>4489_1</td>\n",
       "      <td>`The Matrix' was an exciting summer blockbuste...</td>\n",
       "    </tr>\n",
       "    <tr>\n",
       "      <th>2</th>\n",
       "      <td>3304_10</td>\n",
       "      <td>This movie is one among the very few Indian mo...</td>\n",
       "    </tr>\n",
       "    <tr>\n",
       "      <th>3</th>\n",
       "      <td>3350_3</td>\n",
       "      <td>The script for this movie was probably found i...</td>\n",
       "    </tr>\n",
       "    <tr>\n",
       "      <th>4</th>\n",
       "      <td>1119_1</td>\n",
       "      <td>Even if this film was allegedly a joke in resp...</td>\n",
       "    </tr>\n",
       "  </tbody>\n",
       "</table>\n",
       "</div>"
      ],
      "text/plain": [
       "        id                                             review\n",
       "0  10633_1  I watched this video at a friend's house. I'm ...\n",
       "1   4489_1  `The Matrix' was an exciting summer blockbuste...\n",
       "2  3304_10  This movie is one among the very few Indian mo...\n",
       "3   3350_3  The script for this movie was probably found i...\n",
       "4   1119_1  Even if this film was allegedly a joke in resp..."
      ]
     },
     "execution_count": 41,
     "metadata": {},
     "output_type": "execute_result"
    }
   ],
   "source": [
    "test.head()"
   ]
  },
  {
   "cell_type": "code",
   "execution_count": 5,
   "metadata": {},
   "outputs": [
    {
     "data": {
      "text/plain": [
       "<matplotlib.axes._subplots.AxesSubplot at 0x2cd8e7f4f98>"
      ]
     },
     "execution_count": 5,
     "metadata": {},
     "output_type": "execute_result"
    },
    {
     "data": {
      "image/png": "[encoded data removed]",
      "text/plain": [
       "<Figure size 432x288 with 1 Axes>"
      ]
     },
     "metadata": {
      "needs_background": "light"
     },
     "output_type": "display_data"
    }
   ],
   "source": [
    "sns.countplot(data['sentiment'])"
   ]
  },
  {
   "cell_type": "markdown",
   "metadata": {},
   "source": [
    "## 2. Data clean up\n",
    "### a. Removing stop words"
   ]
  },
  {
   "cell_type": "code",
   "execution_count": 5,
   "metadata": {
    "scrolled": true
   },
   "outputs": [
    {
     "name": "stderr",
     "output_type": "stream",
     "text": [
      "[nltk_data] Downloading package stopwords to C:\\Users\\Hang\n",
      "[nltk_data]     Nguyen\\AppData\\Roaming\\nltk_data...\n",
      "[nltk_data]   Package stopwords is already up-to-date!\n"
     ]
    }
   ],
   "source": [
    "import nltk\n",
    "# import the library for stopwords\n",
    "nltk.download('stopwords')\n",
    "from nltk.corpus import stopwords\n",
    "stop = stopwords.words('english')"
   ]
  },
  {
   "cell_type": "code",
   "execution_count": 6,
   "metadata": {},
   "outputs": [],
   "source": [
    "from collections import Counter\n",
    "vocab = Counter()\n",
    "\n",
    "# Let's apply the example above to count words in our SentimentText\n",
    "\n",
    "for i in data['review']:\n",
    "    i = i.strip(' ')\n",
    "    words = i.split()\n",
    "    for word in words:\n",
    "        vocab[word] += 1"
   ]
  },
  {
   "cell_type": "code",
   "execution_count": 7,
   "metadata": {},
   "outputs": [],
   "source": [
    "vocab_reduced = Counter()\n",
    "# Go through all of the items of vocab using vocab.items() and pick only words that are not in 'stop' \n",
    "# and save them in vocab_reduced\n",
    "for w,i in vocab.items():\n",
    "    if w not in stop:\n",
    "        vocab_reduced[w] = i\n",
    "\n",
    "# Save 30 most common words in stop_word\n",
    "# Check 30 most common words whether these words play an import role in sentimental analysis or not.\n",
    "# If yes then delete it from the stop_word\n",
    "stop_word = vocab_reduced.most_common(30)\n",
    "del stop_word[28:]\n",
    "del stop_word[25]\n",
    "del stop_word[17] \n",
    "del stop_word[11]\n",
    "del stop_word[9]\n",
    "del stop_word[6]"
   ]
  },
  {
   "cell_type": "code",
   "execution_count": 8,
   "metadata": {},
   "outputs": [],
   "source": [
    "# Append words in stop_word in to stop\n",
    "for i in stop_word:\n",
    "    stop.append(i[0])"
   ]
  },
  {
   "cell_type": "code",
   "execution_count": 9,
   "metadata": {},
   "outputs": [],
   "source": [
    "# Since python is case-sensitive language \n",
    "# Append \n",
    "for i in stop:\n",
    "    a = i.capitalize()\n",
    "    if a not in stop:\n",
    "        stop.append(a)"
   ]
  },
  {
   "cell_type": "code",
   "execution_count": 10,
   "metadata": {},
   "outputs": [],
   "source": [
    "import re"
   ]
  },
  {
   "cell_type": "code",
   "execution_count": 11,
   "metadata": {},
   "outputs": [],
   "source": [
    "def preprocessor(text):\n",
    "    \"\"\" Return a cleaned version of text\n",
    "    \"\"\"\n",
    "    # Remove HTML markup\n",
    "    text = re.sub('<[^>]*>', '', text)\n",
    "    # Remove unneccessary mark\n",
    "    text = re.sub('[\\\"]','',text)\n",
    "    # Save emoticons for later appending\n",
    "    emoticons = re.findall('(?::|;|=)(?:-)?(?:\\)|\\(|D|P)', text)\n",
    "    # Remove any non-word character and append the emoticons,\n",
    "    # removing the nose character for standarization. Convert to lower case\n",
    "    text = (re.sub('[\\W]+', ' ', text.lower()) + ' ' + ' '.join(emoticons).replace('-', ''))\n",
    "    \n",
    "    return text\n"
   ]
  },
  {
   "cell_type": "code",
   "execution_count": 12,
   "metadata": {},
   "outputs": [],
   "source": [
    "from nltk.stem import PorterStemmer\n",
    "\n",
    "porter = PorterStemmer()\n",
    "\n",
    "# write a function called `tokenizer()` that split a text into list of words\n",
    "def tokenizer(text):\n",
    "    token = [] \n",
    "    # Your code here\n",
    "    token = text.split()\n",
    "    return token\n",
    "\n",
    "\n",
    "# write a function named `tokenizer_porter()` that split a text into list of words and apply stemming technic\n",
    "# Hint: porter.stem(word)\n",
    "def tokenizer_porter(text):\n",
    "    token = []\n",
    "    # Your code here\n",
    "#     token = porter.stem(text)\n",
    "    for word in tokenizer(text):\n",
    "        a = porter.stem(word)\n",
    "        if a not in token:\n",
    "            token.append(a)\n",
    "    return token\n"
   ]
  },
  {
   "cell_type": "markdown",
   "metadata": {},
   "source": [
    "### b.Transform data "
   ]
  },
  {
   "cell_type": "code",
   "execution_count": 13,
   "metadata": {},
   "outputs": [],
   "source": [
    "# split the dataset in train and test\n",
    "# Your code here\n",
    "from sklearn.model_selection import train_test_split\n",
    "X = data['review'] # LogisticRegression 1 feature\n",
    "y = data['sentiment']"
   ]
  },
  {
   "cell_type": "code",
   "execution_count": 59,
   "metadata": {},
   "outputs": [],
   "source": [
    "from sklearn.feature_extraction.text import TfidfVectorizer\n",
    "\n",
    "tfidf = TfidfVectorizer(stop_words=stop,\\\n",
    "                        tokenizer=tokenizer_porter,\\\n",
    "                        preprocessor=preprocessor,\\\n",
    "                       ngram_range=(1,2))"
   ]
  },
  {
   "cell_type": "code",
   "execution_count": 60,
   "metadata": {},
   "outputs": [],
   "source": [
    "X_tfidf = tfidf.fit_transform(X)"
   ]
  },
  {
   "cell_type": "markdown",
   "metadata": {},
   "source": [
    "## Train / Test split"
   ]
  },
  {
   "cell_type": "code",
   "execution_count": 17,
   "metadata": {},
   "outputs": [],
   "source": [
    "X_train, X_test, y_train, y_test = train_test_split(X_tfidf,y,test_size=.3,random_state = 101)"
   ]
  },
  {
   "cell_type": "markdown",
   "metadata": {},
   "source": [
    "## Build Model"
   ]
  },
  {
   "cell_type": "code",
   "execution_count": 14,
   "metadata": {},
   "outputs": [],
   "source": [
    "from sklearn.svm import SVC\n",
    "from sklearn.linear_model import LogisticRegression\n",
    "from sklearn.preprocessing import PolynomialFeatures\n",
    "from sklearn.ensemble import RandomForestClassifier\n",
    "from sklearn.tree import DecisionTreeClassifier\n",
    "from sklearn.metrics import confusion_matrix, accuracy_score, classification_report"
   ]
  },
  {
   "cell_type": "code",
   "execution_count": 18,
   "metadata": {},
   "outputs": [],
   "source": [
    "# Initialize LogisticRegression, DecisionTreeClassifier, RandomForestClassifier, SVC model\n",
    "lr = LogisticRegression()\n",
    "dtc = DecisionTreeClassifier()\n",
    "rfc = RandomForestClassifier()\n",
    "svm = SVC(kernel='linear')\n",
    "\n",
    "# Save all of those 4 models into models\n",
    "models = [lr, dtc, rfc, svm]\n",
    "models_name = [\"Logistic Regression\", \"Decision Tree\", \"Random Forest\", \"SVM\"]"
   ]
  },
  {
   "cell_type": "code",
   "execution_count": 20,
   "metadata": {},
   "outputs": [],
   "source": [
    "# We create an utils function, that take a trained model as argument and print out confusion matrix\n",
    "# classification report base on X and y\n",
    "def evaluate_model(estimator, X, y):\n",
    "    # Note: We should test on the original test set\n",
    "    predictions = estimator.predict(X)\n",
    "    acc = accuracy_score(predictions,y)\n",
    "    cm = confusion_matrix(predictions,y)\n",
    "    report = classification_report(predictions,y)\n",
    "    vc = y.value_counts()\n",
    "    print('Accuracy score:',acc)\n",
    "    print('Confusion matrix:\\n', cm)\n",
    "    print('Classification report:\\n', report)\n",
    "    print('Testing set information:\\n', vc)\n",
    "    # Set print options\n",
    "    np.set_printoptions(precision=2)\n",
    "    return predictions, acc"
   ]
  },
  {
   "cell_type": "code",
   "execution_count": 22,
   "metadata": {},
   "outputs": [
    {
     "name": "stdout",
     "output_type": "stream",
     "text": [
      "Model: Logistic Regression\n",
      "Accuracy score: 0.8865185185185185\n",
      "Confusion matrix:\n",
      " [[2935  293]\n",
      " [ 473 3049]]\n",
      "Classification report:\n",
      "               precision    recall  f1-score   support\n",
      "\n",
      "           0       0.86      0.91      0.88      3228\n",
      "           1       0.91      0.87      0.89      3522\n",
      "\n",
      "   micro avg       0.89      0.89      0.89      6750\n",
      "   macro avg       0.89      0.89      0.89      6750\n",
      "weighted avg       0.89      0.89      0.89      6750\n",
      "\n",
      "Testing set information:\n",
      " 0    3408\n",
      "1    3342\n",
      "Name: sentiment, dtype: int64\n",
      "=======================================\n",
      "Model: Decision Tree\n",
      "Accuracy score: 0.7038518518518518\n",
      "Confusion matrix:\n",
      " [[2424 1015]\n",
      " [ 984 2327]]\n",
      "Classification report:\n",
      "               precision    recall  f1-score   support\n",
      "\n",
      "           0       0.71      0.70      0.71      3439\n",
      "           1       0.70      0.70      0.70      3311\n",
      "\n",
      "   micro avg       0.70      0.70      0.70      6750\n",
      "   macro avg       0.70      0.70      0.70      6750\n",
      "weighted avg       0.70      0.70      0.70      6750\n",
      "\n",
      "Testing set information:\n",
      " 0    3408\n",
      "1    3342\n",
      "Name: sentiment, dtype: int64\n",
      "=======================================\n",
      "Model: Random Forest\n",
      "Accuracy score: 0.7349629629629629\n",
      "Confusion matrix:\n",
      " [[2684 1065]\n",
      " [ 724 2277]]\n",
      "Classification report:\n",
      "               precision    recall  f1-score   support\n",
      "\n",
      "           0       0.79      0.72      0.75      3749\n",
      "           1       0.68      0.76      0.72      3001\n",
      "\n",
      "   micro avg       0.73      0.73      0.73      6750\n",
      "   macro avg       0.73      0.74      0.73      6750\n",
      "weighted avg       0.74      0.73      0.74      6750\n",
      "\n",
      "Testing set information:\n",
      " 0    3408\n",
      "1    3342\n",
      "Name: sentiment, dtype: int64\n",
      "=======================================\n",
      "Model: SVM\n",
      "Accuracy score: 0.9017777777777778\n",
      "Confusion matrix:\n",
      " [[3008  263]\n",
      " [ 400 3079]]\n",
      "Classification report:\n",
      "               precision    recall  f1-score   support\n",
      "\n",
      "           0       0.88      0.92      0.90      3271\n",
      "           1       0.92      0.89      0.90      3479\n",
      "\n",
      "   micro avg       0.90      0.90      0.90      6750\n",
      "   macro avg       0.90      0.90      0.90      6750\n",
      "weighted avg       0.90      0.90      0.90      6750\n",
      "\n",
      "Testing set information:\n",
      " 0    3408\n",
      "1    3342\n",
      "Name: sentiment, dtype: int64\n",
      "=======================================\n"
     ]
    }
   ],
   "source": [
    "# Now we will test on origin dataset (X_train_sub, y_train_sub)\n",
    "# We loop for models\n",
    "# For each model, we train with train_sub dataset\n",
    "# and use evaluate_model function to test with test set\n",
    "for idx, model in enumerate(models):\n",
    "    print(\"Model: {}\".format(models_name[idx]))\n",
    "    # Your code here\n",
    "    model.fit(X_train,y_train)\n",
    "    predictions, acc,cm,report = evaluate_model(model,X_test,y_test)\n",
    "    print(\"=======================================\")"
   ]
  },
  {
   "cell_type": "markdown",
   "metadata": {},
   "source": [
    "### Save model"
   ]
  },
  {
   "cell_type": "code",
   "execution_count": 29,
   "metadata": {},
   "outputs": [],
   "source": [
    "import pickle\n",
    "import os"
   ]
  },
  {
   "cell_type": "code",
   "execution_count": 32,
   "metadata": {},
   "outputs": [],
   "source": [
    "pickle.dump(lr, open(os.path.join('data', 'logisticRegression.pkl'), 'wb'), protocol=4)"
   ]
  },
  {
   "cell_type": "code",
   "execution_count": 33,
   "metadata": {},
   "outputs": [],
   "source": [
    "pickle.dump(svm, open(os.path.join('data', 'SVM.pkl'), 'wb'), protocol=4)"
   ]
  },
  {
   "cell_type": "code",
   "execution_count": 34,
   "metadata": {},
   "outputs": [],
   "source": [
    "pickle.dump(dtc, open(os.path.join('data', 'DecisionTreeClassifier.pkl'), 'wb'), protocol=4)\n",
    "pickle.dump(dtc, open(os.path.join('data', 'RandomForestClassifier.pkl'), 'wb'), protocol=4)"
   ]
  },
  {
   "cell_type": "markdown",
   "metadata": {},
   "source": [
    "**As we can see that, LogisticRegression and SVC perform much more better than the other two. Eventhough, SVC has a higher accuracy score, LogisticRegression require much less time to train than SVC. As a result, we will go with LogisticRegression and try to improve the model of it.**"
   ]
  },
  {
   "cell_type": "markdown",
   "metadata": {},
   "source": [
    "## Fine tune"
   ]
  },
  {
   "cell_type": "markdown",
   "metadata": {},
   "source": [
    "### Random Forest Classifier"
   ]
  },
  {
   "cell_type": "code",
   "execution_count": 24,
   "metadata": {},
   "outputs": [],
   "source": [
    "from sklearn.model_selection import cross_val_score"
   ]
  },
  {
   "cell_type": "code",
   "execution_count": 36,
   "metadata": {},
   "outputs": [
    {
     "data": {
      "image/png": "[encoded data removed]",
      "text/plain": [
       "<PIL.PngImagePlugin.PngImageFile image mode=RGBA size=432x288 at 0x1F5A235ADD8>"
      ]
     },
     "execution_count": 36,
     "metadata": {},
     "output_type": "execute_result"
    }
   ],
   "source": [
    "val_rate = []\n",
    "n = [1 ,5 ,10, 20, 50, 100]\n",
    "\n",
    "# Your code here\n",
    "for i in n:\n",
    "    clf = RandomForestClassifier(i)\n",
    "    val_error = 1 - cross_val_score(clf, X_train, y_train,cv=5).mean()\n",
    "    val_rate.append(val_error)\n",
    "    print(i,val_error)\n",
    "\n",
    "# Plot settings\n",
    "plt.scatter(x = n, y = val_rate)\n",
    "plt.show()"
   ]
  },
  {
   "cell_type": "code",
   "execution_count": 37,
   "metadata": {},
   "outputs": [
    {
     "data": {
      "text/plain": [
       "0.8386666666666667"
      ]
     },
     "execution_count": 37,
     "metadata": {},
     "output_type": "execute_result"
    }
   ],
   "source": [
    "final_rfc = RandomForestClassifier(50)\n",
    "final_rfc.fit(X_train,y_train)\n",
    "final_rfc_predictions = final_rfc.predict(X_test)\n",
    "accuracy_score(final_rfc_predictions,y_test)"
   ]
  },
  {
   "cell_type": "markdown",
   "metadata": {},
   "source": [
    "### Logistic Regression"
   ]
  },
  {
   "cell_type": "code",
   "execution_count": 25,
   "metadata": {},
   "outputs": [
    {
     "data": {
      "image/png": "[encoded data removed]",
      "text/plain": [
       "<Figure size 1080x504 with 1 Axes>"
      ]
     },
     "metadata": {
      "needs_background": "light"
     },
     "output_type": "display_data"
    }
   ],
   "source": [
    "val_rate = []\n",
    "c_range =  range(1,200,20)\n",
    "\n",
    "# Your code here\n",
    "for i in c_range:\n",
    "    lr_2 = LogisticRegression(C=i)\n",
    "    val_error = 1 - cross_val_score(lr_2, X_train, y_train,cv=5).mean()\n",
    "    val_rate.append(val_error)\n",
    "\n",
    "# Plot settings\n",
    "plt.figure(figsize=(15,7))\n",
    "plt.plot(c_range, val_rate, color='orange', linestyle='dashed', marker='o',\n",
    "         markerfacecolor='black', markersize=5, label='Validation Error')\n",
    "\n",
    "plt.xticks(np.arange(c_range.start, c_range.stop, c_range.step), rotation=60)\n",
    "plt.grid()\n",
    "plt.legend()\n",
    "plt.title('Validation Error vs. C Value')\n",
    "plt.xlabel('C')\n",
    "plt.ylabel('Validation Error')\n",
    "plt.show()"
   ]
  },
  {
   "cell_type": "code",
   "execution_count": 39,
   "metadata": {},
   "outputs": [
    {
     "data": {
      "text/plain": [
       "0.902074074074074"
      ]
     },
     "execution_count": 39,
     "metadata": {},
     "output_type": "execute_result"
    }
   ],
   "source": [
    "final_lr = LogisticRegression(C=141)\n",
    "final_lr.fit(X_train,y_train)\n",
    "final_lr_predictions = final_lr.predict(X_test)\n",
    "accuracy_score(final_lr_predictions,y_test)"
   ]
  },
  {
   "cell_type": "code",
   "execution_count": 30,
   "metadata": {},
   "outputs": [],
   "source": [
    "pickle.dump(final_lr, open(os.path.join('data', 'Final_logisticRegression.pkl'), 'wb'), protocol=4)"
   ]
  },
  {
   "cell_type": "markdown",
   "metadata": {},
   "source": [
    "## Test model"
   ]
  },
  {
   "cell_type": "code",
   "execution_count": null,
   "metadata": {},
   "outputs": [],
   "source": [
    "test = pd.read_csv(\"./data/movie_review_noLabel.csv\", sep='\\t')"
   ]
  },
  {
   "cell_type": "code",
   "execution_count": 50,
   "metadata": {},
   "outputs": [
    {
     "data": {
      "text/html": [
       "<div>\n",
       "<style scoped>\n",
       "    .dataframe tbody tr th:only-of-type {\n",
       "        vertical-align: middle;\n",
       "    }\n",
       "\n",
       "    .dataframe tbody tr th {\n",
       "        vertical-align: top;\n",
       "    }\n",
       "\n",
       "    .dataframe thead th {\n",
       "        text-align: right;\n",
       "    }\n",
       "</style>\n",
       "<table border=\"1\" class=\"dataframe\">\n",
       "  <thead>\n",
       "    <tr style=\"text-align: right;\">\n",
       "      <th></th>\n",
       "      <th>id</th>\n",
       "      <th>review</th>\n",
       "    </tr>\n",
       "  </thead>\n",
       "  <tbody>\n",
       "    <tr>\n",
       "      <th>0</th>\n",
       "      <td>10633_1</td>\n",
       "      <td>I watched this video at a friend's house. I'm ...</td>\n",
       "    </tr>\n",
       "    <tr>\n",
       "      <th>1</th>\n",
       "      <td>4489_1</td>\n",
       "      <td>`The Matrix' was an exciting summer blockbuste...</td>\n",
       "    </tr>\n",
       "    <tr>\n",
       "      <th>2</th>\n",
       "      <td>3304_10</td>\n",
       "      <td>This movie is one among the very few Indian mo...</td>\n",
       "    </tr>\n",
       "    <tr>\n",
       "      <th>3</th>\n",
       "      <td>3350_3</td>\n",
       "      <td>The script for this movie was probably found i...</td>\n",
       "    </tr>\n",
       "    <tr>\n",
       "      <th>4</th>\n",
       "      <td>1119_1</td>\n",
       "      <td>Even if this film was allegedly a joke in resp...</td>\n",
       "    </tr>\n",
       "  </tbody>\n",
       "</table>\n",
       "</div>"
      ],
      "text/plain": [
       "        id                                             review\n",
       "0  10633_1  I watched this video at a friend's house. I'm ...\n",
       "1   4489_1  `The Matrix' was an exciting summer blockbuste...\n",
       "2  3304_10  This movie is one among the very few Indian mo...\n",
       "3   3350_3  The script for this movie was probably found i...\n",
       "4   1119_1  Even if this film was allegedly a joke in resp..."
      ]
     },
     "execution_count": 50,
     "metadata": {},
     "output_type": "execute_result"
    }
   ],
   "source": [
    "test.head()"
   ]
  },
  {
   "cell_type": "code",
   "execution_count": 64,
   "metadata": {},
   "outputs": [],
   "source": [
    "# transform test data\n",
    "X_test_tfidf = tfidf.transform(test['review'])"
   ]
  },
  {
   "cell_type": "code",
   "execution_count": 62,
   "metadata": {},
   "outputs": [],
   "source": [
    "test_predictions = final_lr.predict(X_test_tfidf)"
   ]
  },
  {
   "cell_type": "code",
   "execution_count": 63,
   "metadata": {},
   "outputs": [
    {
     "data": {
      "text/plain": [
       "array([0, 0, 1, ..., 1, 0, 1], dtype=int64)"
      ]
     },
     "execution_count": 63,
     "metadata": {},
     "output_type": "execute_result"
    }
   ],
   "source": [
    "test_predictions"
   ]
  },
  {
   "cell_type": "code",
   "execution_count": 66,
   "metadata": {},
   "outputs": [],
   "source": [
    "test['sentiment'] = test_predictions"
   ]
  },
  {
   "cell_type": "code",
   "execution_count": 68,
   "metadata": {},
   "outputs": [
    {
     "data": {
      "text/html": [
       "<div>\n",
       "<style scoped>\n",
       "    .dataframe tbody tr th:only-of-type {\n",
       "        vertical-align: middle;\n",
       "    }\n",
       "\n",
       "    .dataframe tbody tr th {\n",
       "        vertical-align: top;\n",
       "    }\n",
       "\n",
       "    .dataframe thead th {\n",
       "        text-align: right;\n",
       "    }\n",
       "</style>\n",
       "<table border=\"1\" class=\"dataframe\">\n",
       "  <thead>\n",
       "    <tr style=\"text-align: right;\">\n",
       "      <th></th>\n",
       "      <th>id</th>\n",
       "      <th>review</th>\n",
       "      <th>sentiment</th>\n",
       "    </tr>\n",
       "  </thead>\n",
       "  <tbody>\n",
       "    <tr>\n",
       "      <th>0</th>\n",
       "      <td>10633_1</td>\n",
       "      <td>I watched this video at a friend's house. I'm ...</td>\n",
       "      <td>0</td>\n",
       "    </tr>\n",
       "    <tr>\n",
       "      <th>1</th>\n",
       "      <td>4489_1</td>\n",
       "      <td>`The Matrix' was an exciting summer blockbuste...</td>\n",
       "      <td>0</td>\n",
       "    </tr>\n",
       "    <tr>\n",
       "      <th>2</th>\n",
       "      <td>3304_10</td>\n",
       "      <td>This movie is one among the very few Indian mo...</td>\n",
       "      <td>1</td>\n",
       "    </tr>\n",
       "    <tr>\n",
       "      <th>3</th>\n",
       "      <td>3350_3</td>\n",
       "      <td>The script for this movie was probably found i...</td>\n",
       "      <td>0</td>\n",
       "    </tr>\n",
       "    <tr>\n",
       "      <th>4</th>\n",
       "      <td>1119_1</td>\n",
       "      <td>Even if this film was allegedly a joke in resp...</td>\n",
       "      <td>0</td>\n",
       "    </tr>\n",
       "  </tbody>\n",
       "</table>\n",
       "</div>"
      ],
      "text/plain": [
       "        id                                             review  sentiment\n",
       "0  10633_1  I watched this video at a friend's house. I'm ...          0\n",
       "1   4489_1  `The Matrix' was an exciting summer blockbuste...          0\n",
       "2  3304_10  This movie is one among the very few Indian mo...          1\n",
       "3   3350_3  The script for this movie was probably found i...          0\n",
       "4   1119_1  Even if this film was allegedly a joke in resp...          0"
      ]
     },
     "execution_count": 68,
     "metadata": {},
     "output_type": "execute_result"
    }
   ],
   "source": [
    "test.head()"
   ]
  },
  {
   "cell_type": "code",
   "execution_count": null,
   "metadata": {},
   "outputs": [],
   "source": [
    "test.to_csv('.\\data\\test.csv')"
   ]
  }
 ],
 "metadata": {
  "kernelspec": {
   "display_name": "Python 3",
   "language": "python",
   "name": "python3"
  },
  "language_info": {
   "codemirror_mode": {
    "name": "ipython",
    "version": 3
   },
   "file_extension": ".py",
   "mimetype": "text/x-python",
   "name": "python",
   "nbconvert_exporter": "python",
   "pygments_lexer": "ipython3",
   "version": "3.7.3"
  }
 },
 "nbformat": 4,
 "nbformat_minor": 2
}
